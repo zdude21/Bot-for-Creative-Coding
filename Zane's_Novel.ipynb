{
  "nbformat": 4,
  "nbformat_minor": 0,
  "metadata": {
    "colab": {
      "name": "Zane's Novel.ipynb",
      "provenance": [],
      "collapsed_sections": [],
      "authorship_tag": "ABX9TyNGjPpmy1mxUdabomUgaiEI",
      "include_colab_link": true
    },
    "kernelspec": {
      "name": "python3",
      "display_name": "Python 3"
    }
  },
  "cells": [
    {
      "cell_type": "markdown",
      "metadata": {
        "id": "view-in-github",
        "colab_type": "text"
      },
      "source": [
        "<a href=\"https://colab.research.google.com/github/zdude21/Zanes-Creative-Coding/blob/master/Zane's_Novel.ipynb\" target=\"_parent\"><img src=\"https://colab.research.google.com/assets/colab-badge.svg\" alt=\"Open In Colab\"/></a>"
      ]
    },
    {
      "cell_type": "code",
      "metadata": {
        "id": "zXmBhK5S_CAG",
        "colab_type": "code",
        "colab": {
          "base_uri": "https://localhost:8080/",
          "height": 269
        },
        "cellView": "code",
        "outputId": "b1cc9c74-601b-42ab-f67f-540481cebbc5"
      },
      "source": [
        "#@title Default title text\n",
        "class color:\n",
        "   PURPLE = '\\033[95m'\n",
        "   CYAN = '\\033[96m'\n",
        "   DARKCYAN = '\\033[36m'\n",
        "   BLUE = '\\033[94m'\n",
        "   GREEN = '\\033[92m'\n",
        "   YELLOW = '\\033[93m'\n",
        "   RED = '\\033[91m'\n",
        "   BOLD = '\\033[1m'\n",
        "   UNDERLINE = '\\033[4m'\n",
        "   END = '\\033[0m'\n",
        "import random\n",
        "happiness = ['''There are a set of religious, or rather moral writers, who teach that virtue is the certain road to happiness, and vice to misery, in this world. A very wholesome and\n",
        "comfortable doctrine, and to which we have but one objection, namely, that it is not true. - Henry Fielding''' , '''There were days when she was very happy without knowing why. She\n",
        " was happy to be alive and breathing, when her whole being seemed to be one with the sunlight, the color, the odors, the luxuriant warmth of some perfect Southern day. She liked \n",
        " then to wander alone into strange and unfamiliar places. She discovered many a sunny, sleepy corner, fashioned to dream in. And she found it good to dream and to be alone and \n",
        " unmolested. - Kate Chopin''' , '''Happiness can be found even in the darkest of times; if only one remembers to turn on the light. - J.K. Rowling''' , '''And I urge you to please\n",
        "  notice when you are happy, and exclaim or murmur or think at some point, 'If this isn't nice, I don't know what is. - Kurt Vonnegut''']\n",
        "love = ['''Do I love you? My God, if your love were a grain of sand, mine would be a universe of beaches…I have stayed these years in my hovel because of you. I have taught myself \n",
        "languages because of you. I have made my body strong because I thought you might be pleased by a strong body. I have lived my life with only the prayer that some sudden dawn you \n",
        "might glance in my direction. I have not known a moment in years when the sight of you did not send my heart careening against my rib cage. I have not known a night when your visage\n",
        "did not accompany me to sleep. There has not been a morning when you did not flutter behind my waking eyelids… - William Goldman''' , '''Love is a temporary madness; it erupts like volcanoes and then subsides. And when it subsides, you have to make a decision: You have to work out whether your roots have so entwined\n",
        "together that it is inconceivable that you should ever part. Because this is what love is. Love is not breathlessness, it is not excitement. It is not the promulgation of promises\n",
        "of eternal passion. That is just being ‘in love,’ which any fool can do. Love itself is what is left over when being ‘in love’ has burned away, and this is both an art and a\n",
        "fortunate accident. Those who truly love have roots that grow toward each other underground, and when all the pretty blossoms have fallen from their branches, they find that they\n",
        "are one tree and not two. - Louis De Bernies''' , '''At night, there was the feeling that we had come home, feeling no longer alone, waking in the night to find the other one there, and not gone away; all other things were unreal.\n",
        "We slept when we were tired and if we woke the other one woke too so one was not alone. Often a man wishes to be alone and a woman wishes to be alone too and if they love each\n",
        "other they are jealous of that in each other, but I can truly say we never felt that. We could feel alone when we were together, alone against the others. We were never lonely\n",
        "and never afraid when we were together. - Ernest Hemingway''' , '''When he looked into her eyes, he learned the most important part of the language that all the world spoke\n",
        " — the language that everyone on Earth was capable of understanding in their heart. It was love. Something older than humanity, more ancient than the desert. What the boy\n",
        "felt at that moment was that he was in the presence of the only woman in his life, and that, with no need for words, she recognized the same thing. Because when you know\n",
        "the language, it’s easy to understand that someone in the world awaits you, whether it’s in the middle of the desert or in some great city. And when two such people\n",
        " each other, the past and the future become unimportant. There is only that moment, and the incredible certainty that everything under the sun has been written\n",
        "by one hand only. It is the hand that evokes love, and creates a twin soul for every person in the world. Without such love, one’s dreams would have no meaning\n",
        "- Paulo Coehlo''' , \n",
        "'''June, take everything from me but not Henry. Leave me Henry. He is not necessary to you. You do not love him as I do today. You can love many men. I will love only a few.\n",
        "For me, Henry is rare. - Anais Nin''' , ]\n",
        "hate = ['''I stared at the brick as it slid across the clean, worn, wooden floor, and at the glass that scattered about my feet. Outside I could hear jeers and shouts. For one moment\n",
        " I glimpsed howling, sweating, red-and-white faces, distorted into hideous masks of hatred and cruelty, a sea of demon heads that bobbed restlessly outside our store. I could not\n",
        "understand the words they were growling out, but their intention was plain. They wanted to burn and loot and hurt. Looking into that huge mass of faces was like looking into the\n",
        "ugliest depths of the human soul - Laurence Yep''' , '''The sweetest honey is loathsome in its own deliciousness. And in the taste destroys the appetite. Therefore, love\n",
        "moderately. - Shakespeare''' , '''They used to be buddies, I thought, they used to be friends, and now they hate each other because one has to work for a living and the other\n",
        "comes from the West Side. - S.E. Hinton''' , ''' Why is propaganda so much more successful when it stirs up hatred than when it tries to stir up friendly feeling? - Bertrand Russell ''' ,\n",
        "''' Hatred, which could destroy so much, never failed to destroy the man who hated, and this was an immutable law. - James Baldwin''' , '''The opposite of love is not hate, it's\n",
        "indifference. The opposite of art is not ugliness, it's indifference. The opposite of faith is not heresy, it's indifference. And the opposite of life is not death, it's\n",
        "indifference - Elie Wiesel''']\n",
        "\n",
        "print (color.BOLD + \"Emotion: A Collection of Quotes, collected by Zane Burk\" + color.END)\n",
        "print (color.BOLD + \"What is Love? Consider the following...\" + color.END)\n",
        "print (random.choice(love))\n",
        "print (color.BOLD + \"What is Hatred? This quote can explain...\" + color.END)\n",
        "print (random.choice(hate))\n",
        "print (color.BOLD + \"What is Happiness? Ponder the following...\" + color.END)\n",
        "print (random.choice(happiness))\n",
        "print (color.BOLD + \"END\" + color.END)"
      ],
      "execution_count": 37,
      "outputs": [
        {
          "output_type": "stream",
          "text": [
            "\u001b[1mEmotion: A Collection of Quotes, collected by Zane Burk\u001b[0m\n",
            "\u001b[1mWhat is Love? Consider the following...\u001b[0m\n",
            "Do I love you? My God, if your love were a grain of sand, mine would be a universe of beaches…I have stayed these years in my hovel because of you. I have taught myself \n",
            "languages because of you. I have made my body strong because I thought you might be pleased by a strong body. I have lived my life with only the prayer that some sudden dawn you \n",
            "might glance in my direction. I have not known a moment in years when the sight of you did not send my heart careening against my rib cage. I have not known a night when your visage\n",
            "did not accompany me to sleep. There has not been a morning when you did not flutter behind my waking eyelids… - William Goldman\n",
            "\u001b[1mWhat is Hatred? This quote can explain...\u001b[0m\n",
            "The sweetest honey is loathsome in its own deliciousness. And in the taste destroys the appetite. Therefore, love\n",
            "moderately. - Shakespeare\n",
            "\u001b[1mWhat is Happiness? Ponder the following...\u001b[0m\n",
            "There were days when she was very happy without knowing why. She\n",
            " was happy to be alive and breathing, when her whole being seemed to be one with the sunlight, the color, the odors, the luxuriant warmth of some perfect Southern day. She liked \n",
            " then to wander alone into strange and unfamiliar places. She discovered many a sunny, sleepy corner, fashioned to dream in. And she found it good to dream and to be alone and \n",
            " unmolested. - Kate Chopin\n",
            "\u001b[1mEND\u001b[0m\n"
          ],
          "name": "stdout"
        }
      ]
    }
  ]
}